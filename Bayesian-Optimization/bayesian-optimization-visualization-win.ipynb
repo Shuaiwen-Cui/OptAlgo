{
 "cells": [
  {
   "cell_type": "markdown",
   "metadata": {},
   "source": [
    "# BAYESIAN OPTIMIZATION - CODING"
   ]
  },
  {
   "cell_type": "markdown",
   "metadata": {},
   "source": [
    "![BO](BO.jpg)"
   ]
  },
  {
   "cell_type": "markdown",
   "metadata": {},
   "source": [
    "## PSEUDO CODE"
   ]
  },
  {
   "cell_type": "markdown",
   "metadata": {},
   "source": [
    "This script aims to realize Bayesian Optimization using sequential Gaussian Process (GP) as surrogate model. The algorithm is based on the following steps:\n",
    "\n",
    "1. **Initialization**: Select a set of initial points to evaluate the objective function.\n",
    "2. **Model Fitting**: Fit a GP model to the data.\n",
    "3. **Acquisition Function**: Define an acquisition function to determine the next point to evaluate.\n",
    "4. **Optimization**: Find the next point that maximizes the acquisition function.\n",
    "5. **Update**: Evaluate the objective function at the selected point and add it to the dataset.\n",
    "6. **Repeat**: Repeat steps 2-5 until the stopping criterion is met."
   ]
  },
  {
   "cell_type": "markdown",
   "metadata": {},
   "source": [
    "![BO](BAYESIAN-OPTIMIZATION.png)"
   ]
  },
  {
   "cell_type": "markdown",
   "metadata": {},
   "source": [
    "## INGREDIENTS"
   ]
  },
  {
   "cell_type": "markdown",
   "metadata": {},
   "source": [
    "0: THE SEARCH SPACE $X$ - ${[lb_1,ub_1],...,[lb_m,ub_m]}$\n",
    "\n",
    "1: THE OBJECTIVE FUNCTION $f(x)$ - the black box\n",
    "\n",
    "2: THE DATASET $D$ - $\\{(x_1, y_1), (x_2, y_2), ..., (x_t, y_t)\\}$\n",
    "\n",
    "3: THE SURROGATE MODEL $M(x)$ - Gaussian Process\n",
    "\n",
    "4: THE ACQUISITION FUNCTION $S(x)$ - Expected Improvement (EI)\n",
    "\n",
    "5: THE OPTIMIZATION ALGORITHM - L-BFGS-B\n",
    "\n",
    "6: THE STOPPING CRITERION - Maximum number of iterations / Tolerance"
   ]
  },
  {
   "cell_type": "markdown",
   "metadata": {},
   "source": [
    "## REALIZATION"
   ]
  },
  {
   "cell_type": "markdown",
   "metadata": {},
   "source": [
    "### Helpers"
   ]
  },
  {
   "cell_type": "code",
   "execution_count": 14,
   "metadata": {},
   "outputs": [],
   "source": [
    "# DEPENDENCIES\n",
    "import numpy as np\n",
    "import matplotlib.pyplot as plt\n",
    "# use pop-up window for plots\n",
    "%matplotlib qt5 \n",
    "from mpl_toolkits.mplot3d import Axes3D\n",
    "from matplotlib.animation import FuncAnimation\n"
   ]
  },
  {
   "cell_type": "code",
   "execution_count": 15,
   "metadata": {},
   "outputs": [],
   "source": [
    "# CONFIGURABLE PARAMETERS\n",
    "\n",
    "## Hyperparameters\n",
    "noise_lvl = 0.1\n",
    "k_alpha = 1\n",
    "k_lambda = 1\n",
    "\n",
    "## Process Control\n",
    "num_init_points = 10\n",
    "num_iter = 20\n",
    "tolerance = 1e-3\n",
    "gap = np.inf\n",
    "\n",
    "## Acquisition Function - UCB\n",
    "beta = 2"
   ]
  },
  {
   "cell_type": "code",
   "execution_count": 16,
   "metadata": {},
   "outputs": [
    {
     "name": "stdout",
     "output_type": "stream",
     "text": [
      "-1.0\n",
      "1.0\n"
     ]
    }
   ],
   "source": [
    "## Search Space\n",
    "### parameter 1 - a\n",
    "lb_a = -6\n",
    "ub_a = 4\n",
    "c_a = (ub_a + lb_a) / 2\n",
    "print(c_a)\n",
    "\n",
    "### parameter 2 - b\n",
    "lb_b = -4\n",
    "ub_b = 6\n",
    "c_b = (ub_b + lb_b) / 2\n",
    "print(c_b)"
   ]
  },
  {
   "cell_type": "code",
   "execution_count": 17,
   "metadata": {},
   "outputs": [],
   "source": [
    "# THE OBJECTIVE FUNCTION - this is actually the black box, here I use a simple example to represent the black box\n",
    "def objective_function(a, b):\n",
    "    ret = -1*(a-c_a)**2 - 1*(b-c_b)**2 + 25\n",
    "    # noise term\n",
    "    noise = np.random.normal(0, noise_lvl)\n",
    "    ret += noise\n",
    "    return ret"
   ]
  },
  {
   "cell_type": "code",
   "execution_count": 18,
   "metadata": {},
   "outputs": [],
   "source": [
    "# THE SURROGATE MODEL - Gaussian Process - Kernel Function\n",
    "## Matern 2.5 as the kernel function\n",
    "def kernel(p1, p2, matern_alpha = 1, matern_lambda = 1):\n",
    "    # define the distance between two points p1 and p2\n",
    "    d= np.linalg.norm(p1 - p2)\n",
    "    k = matern_alpha * (1 + np.sqrt(5) * d / matern_lambda + 5 * d**2 / (3 * matern_lambda**2)) * np.exp(-np.sqrt(5) * d / matern_lambda)\n",
    "    return k\n",
    "\n",
    "## Mean and Variance of the Gaussian Process\n",
    "def mean_var(x, D, K_alpha, k_lambda):\n",
    "    # assume x is a variable of 1x1\n",
    "    # calculate the mean and variance of the Gaussian Process\n",
    "    x_dim = x.shape[1] # assume each colum is a dimension of x\n",
    "    num_D = D.shape[0] # number of data points in D\n",
    "    \n",
    "    Ktt = np.zeros((num_D, num_D))\n",
    "    for i in range(num_D):\n",
    "        for j in range(num_D):\n",
    "            Ktt[i, j] = kernel(D[i,:-1], D[j,:-1], K_alpha, k_lambda)\n",
    "    Kttn = Ktt + np.eye(num_D) * noise_lvl\n",
    "    IKttn = np.linalg.inv(Kttn)\n",
    "    \n",
    "    Kpt = np.zeros((1, num_D))\n",
    "    for i in range(num_D):\n",
    "        Kpt[0, i] = kernel(x, D[i,:-1], K_alpha, k_lambda)\n",
    "    Ktp = Kpt.T\n",
    "    Kpp = kernel(x, x, K_alpha, k_lambda)\n",
    "    \n",
    "    y = D[:,-1].reshape(-1,1)\n",
    "    \n",
    "    mean = Kpt @ IKttn @ y\n",
    "    var = Kpp - Kpt @ IKttn @ Ktp\n",
    "        \n",
    "    return mean, var"
   ]
  },
  {
   "cell_type": "code",
   "execution_count": 19,
   "metadata": {},
   "outputs": [],
   "source": [
    "# THE ACQUISITION FUNCTION - UPPER CONFIDENCE BOUND\n",
    "def S(x, D):\n",
    "    mean, var = mean_var(x, D, k_alpha, k_lambda)\n",
    "    s = mean + beta * np.sqrt(var)\n",
    "    return s"
   ]
  },
  {
   "cell_type": "code",
   "execution_count": 20,
   "metadata": {},
   "outputs": [],
   "source": [
    "# THE OPTIMIZATION FUNCTION FOR THE ACQUISITION FUNCTION\n",
    "def optimize_acquisition(D):\n",
    "    # randomly search for the point with the highest acquisition function value\n",
    "    num_search = 100\n",
    "    max_s = -np.inf\n",
    "    max_x = None\n",
    "    cur_x = np.zeros((1,2))\n",
    "    for i in range(num_search):\n",
    "        cur_x[0,0] = np.random.uniform(lb_a, ub_a)\n",
    "        cur_x[0,1] = np.random.uniform(lb_b, ub_b)\n",
    "        cur_s = S(cur_x, D)\n",
    "        if cur_s > max_s:\n",
    "            max_s = cur_s\n",
    "            max_x = cur_x.copy()\n",
    "    return max_x"
   ]
  },
  {
   "cell_type": "markdown",
   "metadata": {},
   "source": [
    "### The Optimization Process"
   ]
  },
  {
   "cell_type": "code",
   "execution_count": 21,
   "metadata": {},
   "outputs": [],
   "source": [
    "# PHASE 1 - INITIAL DATASET\n",
    "D = np.zeros((num_init_points, 3)) # first column is a, second column is b, third column is the objective function value\n",
    "for i in range(num_init_points):\n",
    "    a = np.random.uniform(lb_a, ub_a)\n",
    "    b = np.random.uniform(lb_b, ub_b)\n",
    "    D[i, 0] = a\n",
    "    D[i, 1] = b\n",
    "    D[i, 2] = objective_function(a, b)"
   ]
  },
  {
   "cell_type": "code",
   "execution_count": 22,
   "metadata": {},
   "outputs": [],
   "source": [
    "# # plot 3D scatter plot\n",
    "# fig = plt.figure()\n",
    "# ax = fig.add_subplot(111, projection='3d')\n",
    "# ax.scatter(D[:, 0], D[:, 1], D[:, 2])\n",
    "# ax.set_xlabel('a')\n",
    "# ax.set_ylabel('b')\n",
    "# ax.set_zlabel('objective function value')\n",
    "# ax.set_xlim(1.1*lb_a, 1.1*ub_a)\n",
    "# ax.set_ylim(1.1*lb_b, 1.1*ub_b)\n",
    "# plt.show()"
   ]
  },
  {
   "cell_type": "code",
   "execution_count": 23,
   "metadata": {},
   "outputs": [],
   "source": [
    "# PHASE 2 - OPTIMIZATION ITERATIONS\n",
    "for i in range(num_iter):\n",
    "    \n",
    "    # (1) use the surrogate model to approach the posterior distribution of the objective function, modeled by Gaussian Process which can be characterized by the mean function and the covariance function\n",
    "    \n",
    "    ## mean, var = mean_var(x, D, 1, 1)\n",
    "    \n",
    "    # (2) determine the next point to evaluate using the acquisition function S(D)\n",
    "    x_eval = optimize_acquisition(D)\n",
    "    \n",
    "    # (3) evaluate the objective function at the next point\n",
    "    f_eval = objective_function(x_eval[0,0], x_eval[0,1])\n",
    "    \n",
    "    # (4) update the dataset D\n",
    "    newpoint = np.zeros((1,3))\n",
    "    newpoint[0,0] = x_eval[0,0]\n",
    "    newpoint[0,1] = x_eval[0,1]\n",
    "    newpoint[0,2] = f_eval\n",
    "    D = np.vstack((D, newpoint))\n",
    "    \n",
    "    # (5) check the stopping criterion\n",
    "    gap = np.abs(D[-1, -1] - D[-2, -1])\n",
    "    if gap < tolerance:\n",
    "        break\n",
    "    \n"
   ]
  },
  {
   "cell_type": "code",
   "execution_count": 24,
   "metadata": {},
   "outputs": [
    {
     "name": "stdout",
     "output_type": "stream",
     "text": [
      "30\n"
     ]
    }
   ],
   "source": [
    "# number of points in D\n",
    "print(D.shape[0])"
   ]
  },
  {
   "cell_type": "code",
   "execution_count": 25,
   "metadata": {},
   "outputs": [],
   "source": [
    "# VISUALIZATION\n",
    "# plot the final dataset in animation, mark the order of the points\n",
    "fig = plt.figure()\n",
    "ax = fig.add_subplot(111, projection='3d')\n",
    "ax.set_xlabel('a')\n",
    "ax.set_ylabel('b')\n",
    "ax.set_zlabel('objective function value')\n",
    "ax.set_xlim(1.1*lb_a, 1.1*ub_a)\n",
    "ax.set_ylim(1.1*lb_b, 1.1*ub_b)\n",
    "ax.set_zlim(-100, 10)\n",
    "\n",
    "def update(i):\n",
    "    ax.scatter(D[:i, 0], D[:i, 1], D[:i, 2], c='r')\n",
    "    ax.text(D[i, 0], D[i, 1], D[i, 2], str(i), color='black')\n",
    "    return ax\n",
    "\n",
    "ani = FuncAnimation(fig, update, frames=D.shape[0], repeat=False)\n",
    "\n",
    "plt.show()"
   ]
  },
  {
   "cell_type": "code",
   "execution_count": 26,
   "metadata": {},
   "outputs": [
    {
     "name": "stdout",
     "output_type": "stream",
     "text": [
      "22.49653264774721\n",
      "22.69702068765539\n",
      "[0.42340188 0.45775822]\n"
     ]
    }
   ],
   "source": [
    "# print the final value\n",
    "print(D[-1, -1])\n",
    "\n",
    "# print the max value\n",
    "print(np.max(D[:, -1]))\n",
    "\n",
    "# print the argmax\n",
    "print(D[np.argmax(D[:, -1]), :-1])"
   ]
  }
 ],
 "metadata": {
  "kernelspec": {
   "display_name": "CSW",
   "language": "python",
   "name": "python3"
  },
  "language_info": {
   "codemirror_mode": {
    "name": "ipython",
    "version": 3
   },
   "file_extension": ".py",
   "mimetype": "text/x-python",
   "name": "python",
   "nbconvert_exporter": "python",
   "pygments_lexer": "ipython3",
   "version": "3.11.9"
  }
 },
 "nbformat": 4,
 "nbformat_minor": 2
}
